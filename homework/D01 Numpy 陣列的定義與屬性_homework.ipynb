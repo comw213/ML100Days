{
 "cells": [
  {
   "cell_type": "code",
   "execution_count": 1,
   "metadata": {},
   "outputs": [],
   "source": [
    "import numpy as np"
   ]
  },
  {
   "cell_type": "code",
   "execution_count": 2,
   "metadata": {},
   "outputs": [
    {
     "data": {
      "text/plain": [
       "array([ 0,  1,  2,  3,  4,  5,  6,  7,  8,  9, 10, 11, 12, 13, 14, 15, 16,\n",
       "       17, 18, 19, 20])"
      ]
     },
     "execution_count": 2,
     "metadata": {},
     "output_type": "execute_result"
    }
   ],
   "source": [
    "#生成一個等差數列，首數為0，尾數為20，公差為1的數列。\n",
    "np.arange(0,21)"
   ]
  },
  {
   "cell_type": "code",
   "execution_count": null,
   "metadata": {},
   "outputs": [],
   "source": [
    "#step默認為1"
   ]
  },
  {
   "cell_type": "code",
   "execution_count": 4,
   "metadata": {},
   "outputs": [
    {
     "data": {
      "text/plain": [
       "array([ 0,  2,  4,  6,  8, 10, 12, 14, 16, 18, 20])"
      ]
     },
     "execution_count": 4,
     "metadata": {},
     "output_type": "execute_result"
    }
   ],
   "source": [
    "#2.呈上題，將以上數列取出偶數。\n",
    "np.arange(0,21,2)"
   ]
  },
  {
   "cell_type": "code",
   "execution_count": 5,
   "metadata": {},
   "outputs": [
    {
     "data": {
      "text/plain": [
       "array([ 0,  3,  6,  9, 12, 15, 18])"
      ]
     },
     "execution_count": 5,
     "metadata": {},
     "output_type": "execute_result"
    }
   ],
   "source": [
    "#3.呈1題，將數列取出3的倍數。\n",
    "np.arange(0,21,3)"
   ]
  },
  {
   "cell_type": "code",
   "execution_count": 13,
   "metadata": {},
   "outputs": [
    {
     "name": "stdout",
     "output_type": "stream",
     "text": [
      "2 ---陣列有多少維度\n",
      "(3, 5) ---每個維度的大小\n",
      "15 ---陣列當中有幾個元素\n",
      "int32 ---陣列中的資料型態\n",
      "4 ---陣列中每個元素佔用的空間\n",
      "<memory at 0x00000084CCBD6450> ---陣列所存在的記憶體位置\n"
     ]
    }
   ],
   "source": [
    "#5.請試著在程式中印出以下三個 NdArray 的屬性？（屬性：ndim、shape、size、dtype、itemsize、length、type）\n",
    "import numpy as np\n",
    "a = np.arange(15).reshape(3, 5)\n",
    "print(a.ndim , '---陣列有多少維度') \n",
    "print(a.shape , '---每個維度的大小')\n",
    "print(a.size , '---陣列當中有幾個元素')\n",
    "print(a.dtype , '---陣列中的資料型態')\n",
    "print(a.itemsize , '---陣列中每個元素佔用的空間')\n",
    "print(a.data , '---陣列所存在的記憶體位置')"
   ]
  },
  {
   "cell_type": "code",
   "execution_count": 14,
   "metadata": {},
   "outputs": [
    {
     "name": "stdout",
     "output_type": "stream",
     "text": [
      "只會把第一層的元素轉換成 List，多層的話只有第一層會轉\n",
      "tolist() 才能達成多層的型態轉換\n"
     ]
    }
   ],
   "source": [
    "#4.[簡答題] 請問下列兩種將 Array 轉換成 List 的方式有何不同？\n",
    "print('只會把第一層的元素轉換成 List，多層的話只有第一層會轉')\n",
    "print('tolist() 才能達成多層的型態轉換')"
   ]
  },
  {
   "cell_type": "code",
   "execution_count": 20,
   "metadata": {},
   "outputs": [
    {
     "name": "stdout",
     "output_type": "stream",
     "text": [
      "[array([ 1,  3,  5,  7,  9, 11, 13]), array([15, 17, 19, 21, 23, 25, 27]), array([29, 31, 33, 35, 37, 39, 41])]\n",
      "[[1, 3, 5, 7, 9, 11, 13], [15, 17, 19, 21, 23, 25, 27], [29, 31, 33, 35, 37, 39, 41]]\n"
     ]
    }
   ],
   "source": [
    "#6.如何利用 list(...) 實現 a.tolist() 的效果？試著用程式實作。\n",
    "a = np.arange(1, 42, 2).reshape(3, 7)\n",
    "\n",
    "print(list(a))\n",
    "print(a.tolist())"
   ]
  },
  {
   "cell_type": "code",
   "execution_count": null,
   "metadata": {},
   "outputs": [],
   "source": []
  }
 ],
 "metadata": {
  "kernelspec": {
   "display_name": "Python 3",
   "language": "python",
   "name": "python3"
  },
  "language_info": {
   "codemirror_mode": {
    "name": "ipython",
    "version": 3
   },
   "file_extension": ".py",
   "mimetype": "text/x-python",
   "name": "python",
   "nbconvert_exporter": "python",
   "pygments_lexer": "ipython3",
   "version": "3.8.5"
  }
 },
 "nbformat": 4,
 "nbformat_minor": 4
}
